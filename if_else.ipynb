{
 "cells": [
  {
   "cell_type": "markdown",
   "metadata": {},
   "source": [
    "## IF ELSE STATEMENT    \n",
    "\n",
    "- \n",
    "\n",
    "\n"
   ]
  },
  {
   "cell_type": "code",
   "execution_count": 10,
   "metadata": {},
   "outputs": [],
   "source": [
    "a = 10"
   ]
  },
  {
   "cell_type": "code",
   "execution_count": 11,
   "metadata": {},
   "outputs": [
    {
     "name": "stdout",
     "output_type": "stream",
     "text": [
      "my name is adviteeya\n"
     ]
    }
   ],
   "source": [
    "# \n",
    "if a < 15 :\n",
    "    print(\"my name is adviteeya\")"
   ]
  },
  {
   "cell_type": "code",
   "execution_count": 12,
   "metadata": {},
   "outputs": [
    {
     "data": {
      "text/plain": [
       "True"
      ]
     },
     "execution_count": 12,
     "metadata": {},
     "output_type": "execute_result"
    }
   ],
   "source": [
    "a<15"
   ]
  },
  {
   "cell_type": "code",
   "execution_count": 13,
   "metadata": {},
   "outputs": [],
   "source": [
    "# pass stmt.\n",
    "if a < 15 : \n",
    "    pass"
   ]
  },
  {
   "cell_type": "code",
   "execution_count": 14,
   "metadata": {},
   "outputs": [],
   "source": [
    "# Make sure that you maintain the indentation in the if_else stmt. \n",
    "# So that we can maintain a block\n",
    "if 24 < 14:\n",
    "    print(\"my name is adi\")"
   ]
  },
  {
   "cell_type": "code",
   "execution_count": 15,
   "metadata": {},
   "outputs": [
    {
     "name": "stdout",
     "output_type": "stream",
     "text": [
      "if statement is wrong\n"
     ]
    }
   ],
   "source": [
    "# if conditional stmt. to control the flow of a program. \n",
    "if 10<2:\n",
    "    print(\"10 is lesser than 3\")\n",
    "else:\n",
    "    print(\"if statement is wrong\")\n"
   ]
  },
  {
   "cell_type": "code",
   "execution_count": 16,
   "metadata": {},
   "outputs": [
    {
     "name": "stdout",
     "output_type": "stream",
     "text": [
      "1 is lesser than 2\n"
     ]
    }
   ],
   "source": [
    "if 1<2:\n",
    "    print(\"1 is lesser than 2\")\n",
    "else:\n",
    "    print(\"if statement is wrong\")"
   ]
  },
  {
   "cell_type": "code",
   "execution_count": 17,
   "metadata": {},
   "outputs": [
    {
     "name": "stdout",
     "output_type": "stream",
     "text": [
      "i will not be able to buy anything\n"
     ]
    }
   ],
   "source": [
    "# Multiple conditional stmt. \n",
    "income = 100\n",
    "if income < 50 :\n",
    "    print(\"i will be able to buy phone\")\n",
    "elif income < 70 :\n",
    "    print(\"i will be able to buy car\")\n",
    "elif income < 90:\n",
    "    print(\"i will be able to buy house\")\n",
    "elif income < 70 :\n",
    "    print(\"i will be able to buy car\")\n",
    "else:\n",
    "    print(\"i will not be able to buy anything\")"
   ]
  },
  {
   "cell_type": "code",
   "execution_count": 18,
   "metadata": {},
   "outputs": [
    {
     "name": "stdout",
     "output_type": "stream",
     "text": [
      "i will be able to buy phone\n"
     ]
    }
   ],
   "source": [
    "# Input is trying to take string data\n",
    "# Multiple conditional stmt. \n",
    "income = int(input())\n",
    "if income < 50 :\n",
    "    print(\"i will be able to buy phone\")\n",
    "elif income < 70 :\n",
    "    print(\"i will be able to buy car\")\n",
    "elif income < 90:\n",
    "    print(\"i will be able to buy house\")\n",
    "elif income < 70 :\n",
    "    print(\"i will be able to buy car\")\n",
    "else:\n",
    "    print(\"i will not be able to buy anything\")"
   ]
  },
  {
   "cell_type": "code",
   "execution_count": 19,
   "metadata": {},
   "outputs": [
    {
     "name": "stdout",
     "output_type": "stream",
     "text": [
      "discount will be  1.1500000000000001\n"
     ]
    }
   ],
   "source": [
    "Total_price = int(input())\n",
    "if Total_price > 20000:\n",
    "    discount = Total_price *.20\n",
    "    print(\"discount will be \", discount)\n",
    "elif Total_price <= 7000:\n",
    "    discount = Total_price *.05\n",
    "    print(\"discount will be \", discount)\n",
    "else:\n",
    "    print(\"there will be no discount\")"
   ]
  },
  {
   "cell_type": "code",
   "execution_count": 20,
   "metadata": {},
   "outputs": [
    {
     "name": "stdout",
     "output_type": "stream",
     "text": [
      "kindly use a valid coupon code\n"
     ]
    }
   ],
   "source": [
    "coupon = input()\n",
    "if coupon == \"ADVI\":\n",
    "    print(\"you will be able to get a discount of 5%\")\n",
    "    paid_amount = 7080 - 7080*0.05\n",
    "    print(\"you will be able to get one neuron with this amount \", paid_amount)\n",
    "else:\n",
    "    print(\"kindly use a valid coupon code\")"
   ]
  },
  {
   "cell_type": "code",
   "execution_count": 21,
   "metadata": {},
   "outputs": [
    {
     "name": "stdout",
     "output_type": "stream",
     "text": [
      " it will take 3 months of time to make transition\n"
     ]
    }
   ],
   "source": [
    "# PLAN MY STUDY\n",
    "study_hour = int(input())\n",
    "if study_hour<2:\n",
    "    print (\"it may take 9-9 months of time to make a trasition\")\n",
    "elif study_hour <4 and study_hour >1:\n",
    "    print(\"it may take 6 months for tansition\")\n",
    "elif study_hour > 10: \n",
    "    print(\" it will take 3 months of time to make transition\")\n",
    "else:\n",
    "    print(\"it will be difficult\")"
   ]
  },
  {
   "cell_type": "code",
   "execution_count": 22,
   "metadata": {},
   "outputs": [
    {
     "name": "stdout",
     "output_type": "stream",
     "text": [
      "valid\n"
     ]
    }
   ],
   "source": [
    "# Write a code in single line\n",
    "a = 9 \n",
    "if a == 9 : print (\"valid\")"
   ]
  },
  {
   "cell_type": "code",
   "execution_count": 23,
   "metadata": {},
   "outputs": [
    {
     "name": "stdout",
     "output_type": "stream",
     "text": [
      "There are no available course please raise a request we will fulfill ASAP\n"
     ]
    }
   ],
   "source": [
    "# Nested if and elif statement  \n",
    "s = input(\"Enter a string to start\")\n",
    "course = input(\" Enter the course name\")\n",
    "service = input(\"Enter the service name\")\n",
    "if s  == \"adviteeya\":\n",
    "    if course == \"DSA\":\n",
    "        print(\"yes its available under adviteeya and in multiple mode for job preparation\")\n",
    "    elif course == \" blockchain\":\n",
    "        print(\" this is not available as of now, kindly raise your demand we will fulfill\")\n",
    "    elif course == \"FSDS\":\n",
    "        print(\" yes it is available , you can start learning \")\n",
    "    else:\n",
    "        print(\" course not available\")\n",
    "elif s == \"shrav\":\n",
    "    if service == \"Enquiry\" :\n",
    "        print(\" Enter the enquiry in details\")\n",
    "    elif service == \"CourseInfo\":\n",
    "        print(\"Enter the course details\")\n",
    "else:\n",
    "    print(\"There are no available course please raise a request we will fulfill ASAP\")\n",
    "\n"
   ]
  },
  {
   "cell_type": "markdown",
   "metadata": {},
   "source": [
    "## While Loop and For Loop\n"
   ]
  },
  {
   "cell_type": "code",
   "execution_count": 24,
   "metadata": {},
   "outputs": [
    {
     "name": "stdout",
     "output_type": "stream",
     "text": [
      "1\n",
      "2\n",
      "3\n",
      "4\n",
      "5\n",
      "6\n",
      "7\n"
     ]
    }
   ],
   "source": [
    "l = [1,2,3,4,5,6,7]\n",
    "# Extract all the no. one by one and try to perform any operations on each numbers\n",
    "for i in l:\n",
    "    print(i)\n"
   ]
  },
  {
   "cell_type": "code",
   "execution_count": 25,
   "metadata": {},
   "outputs": [
    {
     "name": "stdout",
     "output_type": "stream",
     "text": [
      "a\n",
      "d\n",
      "v\n",
      "i\n",
      "t\n",
      "e\n",
      "e\n",
      "y\n",
      "a\n"
     ]
    }
   ],
   "source": [
    "s = \"adviteeya\"\n",
    "for i in s:\n",
    "    print(i)"
   ]
  },
  {
   "cell_type": "code",
   "execution_count": 26,
   "metadata": {},
   "outputs": [],
   "source": [
    "# Complex for loop \n",
    "# We can extract data from any data types\n",
    "\n",
    "t = (1,2,3,4,5,6)"
   ]
  },
  {
   "cell_type": "code",
   "execution_count": 27,
   "metadata": {},
   "outputs": [
    {
     "name": "stdout",
     "output_type": "stream",
     "text": [
      "1\n",
      "2\n",
      "3\n",
      "4\n",
      "5\n",
      "6\n"
     ]
    }
   ],
   "source": [
    "for i in t:\n",
    "    print(i)"
   ]
  },
  {
   "cell_type": "code",
   "execution_count": 28,
   "metadata": {},
   "outputs": [],
   "source": [
    "l = [1,3.2222,4,5,5.6, 5+4j, \"adviteeeya\"]\n",
    "# print datatype of each and every element in l"
   ]
  },
  {
   "cell_type": "code",
   "execution_count": 29,
   "metadata": {},
   "outputs": [
    {
     "name": "stdout",
     "output_type": "stream",
     "text": [
      "<class 'int'> type of  1\n",
      "<class 'float'> type of  3.2222\n",
      "<class 'int'> type of  4\n",
      "<class 'int'> type of  5\n",
      "<class 'float'> type of  5.6\n",
      "<class 'complex'> type of  (5+4j)\n",
      "<class 'str'> type of  adviteeeya\n"
     ]
    }
   ],
   "source": [
    "for i in l:\n",
    "    print(type(i), \"type of \", i)"
   ]
  },
  {
   "cell_type": "code",
   "execution_count": 30,
   "metadata": {},
   "outputs": [
    {
     "name": "stdout",
     "output_type": "stream",
     "text": [
      "3\n",
      "4\n",
      "5\n",
      "6\n",
      "6\n"
     ]
    }
   ],
   "source": [
    "l = [1,2,3,4,4]\n",
    "for i in l:\n",
    "    print(i+2)"
   ]
  },
  {
   "cell_type": "code",
   "execution_count": 31,
   "metadata": {},
   "outputs": [
    {
     "name": "stdout",
     "output_type": "stream",
     "text": [
      "3\n",
      "4\n",
      "5\n",
      "6\n",
      "6\n"
     ]
    }
   ],
   "source": [
    "# Print in the list \n",
    "l1= []\n",
    "l = [1,2,3,4,4]\n",
    "for i in l:\n",
    "    print(i+2)\n",
    "    l1.append(i+2)"
   ]
  },
  {
   "cell_type": "code",
   "execution_count": 32,
   "metadata": {},
   "outputs": [
    {
     "data": {
      "text/plain": [
       "[3, 4, 5, 6, 6]"
      ]
     },
     "execution_count": 32,
     "metadata": {},
     "output_type": "execute_result"
    }
   ],
   "source": [
    "l1"
   ]
  },
  {
   "cell_type": "code",
   "execution_count": 33,
   "metadata": {},
   "outputs": [],
   "source": [
    "l = [2,3,445,\"sudh\", 6+6j, [45,67,89]]\n",
    "# extract only integer "
   ]
  },
  {
   "cell_type": "code",
   "execution_count": 34,
   "metadata": {},
   "outputs": [
    {
     "name": "stdout",
     "output_type": "stream",
     "text": [
      "2\n",
      "3\n",
      "445\n"
     ]
    }
   ],
   "source": [
    "for i in l:\n",
    "    if type(i) == int:\n",
    "        print(i)"
   ]
  },
  {
   "cell_type": "markdown",
   "metadata": {},
   "source": [
    "### For else statement\n",
    "- found only in python\n"
   ]
  },
  {
   "cell_type": "code",
   "execution_count": null,
   "metadata": {},
   "outputs": [],
   "source": []
  },
  {
   "cell_type": "code",
   "execution_count": 35,
   "metadata": {},
   "outputs": [],
   "source": [
    "l = [2,3,56,56,56,445,\"sudh\", 6+6j, [45,67,89, \"sdfsdfsd\"], \"sadfasdfsdf\"]\n",
    "# q1. try to print index of all the elements \n",
    "# q2. extract all the list of char if element is string\n",
    "# q3 return a list after doing a square of all the int elemnt "
   ]
  },
  {
   "cell_type": "code",
   "execution_count": 36,
   "metadata": {},
   "outputs": [
    {
     "name": "stdout",
     "output_type": "stream",
     "text": [
      "index 0 for an element 2\n",
      "index 1 for an element 3\n",
      "index 2 for an element 56\n",
      "index 3 for an element 56\n",
      "index 4 for an element 56\n",
      "index 5 for an element 445\n",
      "index 6 for an element sudh\n",
      "index 7 for an element (6+6j)\n",
      "index 8 for an element [45, 67, 89, 'sdfsdfsd']\n",
      "index 9 for an element sadfasdfsdf\n"
     ]
    }
   ],
   "source": [
    "# q1. try to print index of all the elements \n",
    "for i in range(len(l)):\n",
    "    print(\"index\",i, \"for an element\", l[i])\n"
   ]
  },
  {
   "cell_type": "code",
   "execution_count": 37,
   "metadata": {},
   "outputs": [
    {
     "name": "stdout",
     "output_type": "stream",
     "text": [
      "(0, 2)\n",
      "(1, 3)\n",
      "(2, 56)\n",
      "(3, 56)\n",
      "(4, 56)\n",
      "(5, 445)\n",
      "(6, 'sudh')\n",
      "(7, (6+6j))\n",
      "(8, [45, 67, 89, 'sdfsdfsd'])\n",
      "(9, 'sadfasdfsdf')\n"
     ]
    }
   ],
   "source": [
    "# enumerate returns the tuples of its own element\n",
    "for i in enumerate(l):\n",
    "    print(i)"
   ]
  },
  {
   "cell_type": "code",
   "execution_count": 38,
   "metadata": {},
   "outputs": [
    {
     "name": "stdout",
     "output_type": "stream",
     "text": [
      "0 2\n",
      "1 3\n",
      "2 56\n",
      "3 56\n",
      "4 56\n",
      "5 445\n",
      "6 sudh\n",
      "7 (6+6j)\n",
      "8 [45, 67, 89, 'sdfsdfsd']\n",
      "9 sadfasdfsdf\n"
     ]
    }
   ],
   "source": [
    "# enumerate returns the tuples of its own element\n",
    "for i,j in enumerate(l):\n",
    "    print(i,j)"
   ]
  },
  {
   "cell_type": "code",
   "execution_count": 39,
   "metadata": {},
   "outputs": [
    {
     "name": "stdout",
     "output_type": "stream",
     "text": [
      "['s', 'u', 'd', 'h']\n",
      "['s', 'a', 'd', 'f', 'a', 's', 'd', 'f', 's', 'd', 'f']\n"
     ]
    }
   ],
   "source": [
    "# q2. extract all the list of char if element is string\n",
    "\n",
    "for i in l:\n",
    "    if type(i) == str:\n",
    "        ls = []\n",
    "        for j in i:\n",
    "            ls.append(j)\n",
    "        print(ls)\n"
   ]
  },
  {
   "cell_type": "code",
   "execution_count": 40,
   "metadata": {},
   "outputs": [],
   "source": [
    "#q3 return a list after doing a square of all the int elemnt\n",
    "li = []\n",
    "for i in l:\n",
    "    if type(i) == int:\n",
    "        li.append(i**2)\n",
    "        \n",
    "        \n",
    "        \n",
    "\n",
    "  \n",
    "\n",
    "    "
   ]
  },
  {
   "cell_type": "code",
   "execution_count": 41,
   "metadata": {},
   "outputs": [
    {
     "data": {
      "text/plain": [
       "[4, 9, 3136, 3136, 3136, 198025]"
      ]
     },
     "execution_count": 41,
     "metadata": {},
     "output_type": "execute_result"
    }
   ],
   "source": [
    "li"
   ]
  },
  {
   "cell_type": "code",
   "execution_count": null,
   "metadata": {},
   "outputs": [],
   "source": []
  },
  {
   "cell_type": "code",
   "execution_count": null,
   "metadata": {},
   "outputs": [],
   "source": []
  },
  {
   "cell_type": "code",
   "execution_count": null,
   "metadata": {},
   "outputs": [],
   "source": []
  },
  {
   "cell_type": "code",
   "execution_count": null,
   "metadata": {},
   "outputs": [],
   "source": []
  },
  {
   "cell_type": "code",
   "execution_count": null,
   "metadata": {},
   "outputs": [],
   "source": []
  }
 ],
 "metadata": {
  "kernelspec": {
   "display_name": "Python 3.8.10 64-bit",
   "language": "python",
   "name": "python3"
  },
  "language_info": {
   "codemirror_mode": {
    "name": "ipython",
    "version": 3
   },
   "file_extension": ".py",
   "mimetype": "text/x-python",
   "name": "python",
   "nbconvert_exporter": "python",
   "pygments_lexer": "ipython3",
   "version": "3.8.10"
  },
  "orig_nbformat": 4,
  "vscode": {
   "interpreter": {
    "hash": "e7370f93d1d0cde622a1f8e1c04877d8463912d04d973331ad4851f04de6915a"
   }
  }
 },
 "nbformat": 4,
 "nbformat_minor": 2
}
